{
 "cells": [
  {
   "cell_type": "code",
   "execution_count": 1,
   "metadata": {},
   "outputs": [],
   "source": [
    "import sys\n",
    "from pathlib import Path\n",
    "from collections import Counter\n",
    "import timeit\n",
    "import pickle"
   ]
  },
  {
   "cell_type": "code",
   "execution_count": 2,
   "metadata": {},
   "outputs": [],
   "source": [
    "import numpy as np\n",
    "from scipy.stats import uniform\n",
    "import matplotlib.pyplot as plt"
   ]
  },
  {
   "cell_type": "code",
   "execution_count": 5,
   "metadata": {},
   "outputs": [],
   "source": [
    "data_dir = Path.cwd().parent.joinpath('src').joinpath('data')\n",
    "vis_dir = Path.cwd().parent.joinpath('src').joinpath('visualization')\n",
    "feature_dir = Path.cwd().parent.joinpath('src').joinpath('features')\n",
    "sys.path.insert(1, str(data_dir))\n",
    "sys.path.insert(1, str(vis_dir))\n",
    "sys.path.insert(1, str(feature_dir))"
   ]
  },
  {
   "cell_type": "code",
   "execution_count": 6,
   "metadata": {},
   "outputs": [],
   "source": [
    "from hit_generator import stochastic\n",
    "from util import plot_in_RAM\n",
    "from util import small_helix_check"
   ]
  },
  {
   "cell_type": "code",
   "execution_count": 7,
   "metadata": {},
   "outputs": [],
   "source": [
    "track_dir = Path.cwd().parent.joinpath('data').joinpath('raw')\n",
    "db_list = [\"train_CeEndpoint-mix-fromCSV_1.db\",\n",
    "               \"train_CeEndpoint-mix-fromCSV_2.db\",\\\n",
    "               \"train_CeEndpoint-mix-fromCSV_3.db\"]\n",
    "file_list = [track_dir.joinpath(db) for db in db_list]"
   ]
  },
  {
   "cell_type": "code",
   "execution_count": 8,
   "metadata": {},
   "outputs": [],
   "source": [
    "dist = uniform(loc=1, scale=0)"
   ]
  },
  {
   "cell_type": "code",
   "execution_count": 9,
   "metadata": {
    "scrolled": false
   },
   "outputs": [],
   "source": [
    "gen = stochastic(dist=dist, db_files=file_list, hitNumCut=20)"
   ]
  },
  {
   "cell_type": "code",
   "execution_count": 10,
   "metadata": {
    "scrolled": false
   },
   "outputs": [
    {
     "name": "stdout",
     "output_type": "stream",
     "text": [
      "1.0\n",
      "0.07058824\n"
     ]
    },
    {
     "data": {
      "image/png": "[encoded data removed]",
      "text/plain": [
       "<Figure size 432x288 with 1 Axes>"
      ]
     },
     "metadata": {
      "needs_background": "light"
     },
     "output_type": "display_data"
    }
   ],
   "source": [
    "N_data = 1\n",
    "N_generated = 0\n",
    "while N_generated < N_data:\n",
    "    hits = gen.generate(mode='production')\n",
    "    if small_helix_check(hits,dx_min=100,dy_min=100):\n",
    "        continue\n",
    "    else:\n",
    "        x = plot_in_RAM(hits, 100)\n",
    "        x = x.reshape(100,100)\n",
    "        print(x.max())\n",
    "        print(x.min())\n",
    "        plt.imshow(x,'gray',vmin=0,vmax=1)\n",
    "        plt.show()\n",
    "        N_generated += 1"
   ]
  },
  {
   "cell_type": "code",
   "execution_count": null,
   "metadata": {},
   "outputs": [],
   "source": []
  }
 ],
 "metadata": {
  "kernelspec": {
   "display_name": "Python 3",
   "language": "python",
   "name": "python3"
  },
  "language_info": {
   "codemirror_mode": {
    "name": "ipython",
    "version": 3
   },
   "file_extension": ".py",
   "mimetype": "text/x-python",
   "name": "python",
   "nbconvert_exporter": "python",
   "pygments_lexer": "ipython3",
   "version": "3.7.6"
  }
 },
 "nbformat": 4,
 "nbformat_minor": 4
}
