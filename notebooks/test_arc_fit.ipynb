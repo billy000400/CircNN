{
 "cells": [
  {
   "cell_type": "code",
   "execution_count": 1,
   "metadata": {},
   "outputs": [],
   "source": [
    "import sys\n",
    "from pathlib import Path\n",
    "from collections import Counter\n",
    "import timeit\n",
    "import pickle"
   ]
  },
  {
   "cell_type": "code",
   "execution_count": 2,
   "metadata": {},
   "outputs": [],
   "source": [
    "import numpy as np\n",
    "from scipy.stats import uniform\n",
    "import matplotlib.pyplot as plt"
   ]
  },
  {
   "cell_type": "code",
   "execution_count": 3,
   "metadata": {},
   "outputs": [],
   "source": [
    "data_dir = Path.cwd().parent.joinpath('src').joinpath('data')\n",
    "vis_dir = Path.cwd().parent.joinpath('src').joinpath('visualization')\n",
    "feature_dir = Path.cwd().parent.joinpath('src').joinpath('features')\n",
    "sys.path.insert(1, str(data_dir))\n",
    "sys.path.insert(1, str(vis_dir))\n",
    "sys.path.insert(1, str(feature_dir))"
   ]
  },
  {
   "cell_type": "code",
   "execution_count": null,
   "metadata": {},
   "outputs": [],
   "source": [
    "from hit_generator import stochastic\n",
    "from util import plot_in_RAM, small_helix_check, hits2arc"
   ]
  },
  {
   "cell_type": "code",
   "execution_count": null,
   "metadata": {},
   "outputs": [],
   "source": [
    "track_dir = Path.cwd().parent.joinpath('data').joinpath('raw')\n",
    "db_list = [\"train_CeEndpoint-mix-fromCSV_1.db\",\n",
    "               \"train_CeEndpoint-mix-fromCSV_2.db\",\\\n",
    "               \"train_CeEndpoint-mix-fromCSV_3.db\"]\n",
    "file_list = [track_dir.joinpath(db) for db in db_list]"
   ]
  },
  {
   "cell_type": "code",
   "execution_count": null,
   "metadata": {},
   "outputs": [],
   "source": [
    "dist = uniform(loc=1, scale=0)"
   ]
  },
  {
   "cell_type": "code",
   "execution_count": null,
   "metadata": {},
   "outputs": [],
   "source": [
    "gen = stochastic(dist=dist, db_files=file_list, hitNumCut=20)"
   ]
  },
  {
   "cell_type": "code",
   "execution_count": null,
   "metadata": {
    "scrolled": true
   },
   "outputs": [],
   "source": [
    "N_data = 1\n",
    "N_generated = 0\n",
    "resolution = 512\n",
    "print(\"Hello?\")\n",
    "while N_generated < N_data:\n",
    "    print(N_generated)\n",
    "    hit_dict = gen.generate(mode='production')\n",
    "    if small_helix_check(hit_dict,dx_min=100,dy_min=100):\n",
    "        continue\n",
    "    else:\n",
    "        print(\"here\")\n",
    "        a, b, R = hits2arc(hit_dict)\n",
    "        print(\"there\")\n",
    "        \n",
    "        \n",
    "        hits = [ it for k, it in hit_dict.items()]\n",
    "        xs = []\n",
    "        ys = []\n",
    "        for hit in hits:\n",
    "            xs.append(hit[0])\n",
    "            ys.append(hit[1])\n",
    "        fig, ax = plt.subplots(figsize=(8,8), dpi=resolution/8, frameon=False)\n",
    "        print(a, b, R)\n",
    "#         circle = plt.Circle((a,b), R, color='b')\n",
    "#         ax.add_patch(circle)\n",
    "        \n",
    "        ax.scatter(xs, ys, c='r', s=2, alpha=0.3)\n",
    "        \n",
    "        ax.set_aspect('equal', adjustable='datalim')\n",
    "        \n",
    "        \n",
    "        ax.set(xlim=[-810, 810], ylim=[-810, 810])\n",
    "\n",
    "        plt.show()\n",
    "        N_generated += 1"
   ]
  },
  {
   "cell_type": "code",
   "execution_count": null,
   "metadata": {},
   "outputs": [],
   "source": []
  }
 ],
 "metadata": {
  "kernelspec": {
   "display_name": "Python 3",
   "language": "python",
   "name": "python3"
  },
  "language_info": {
   "codemirror_mode": {
    "name": "ipython",
    "version": 3
   },
   "file_extension": ".py",
   "mimetype": "text/x-python",
   "name": "python",
   "nbconvert_exporter": "python",
   "pygments_lexer": "ipython3",
   "version": "3.7.6"
  }
 },
 "nbformat": 4,
 "nbformat_minor": 4
}
